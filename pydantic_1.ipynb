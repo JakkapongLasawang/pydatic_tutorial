{
 "cells": [
  {
   "cell_type": "code",
   "execution_count": 1,
   "id": "0d5d1cc2",
   "metadata": {},
   "outputs": [],
   "source": [
    "import json"
   ]
  },
  {
   "cell_type": "code",
   "execution_count": 2,
   "id": "95c4ecf6",
   "metadata": {},
   "outputs": [],
   "source": [
    "from datetime import datetime\n",
    "from typing import List, Optional\n",
    "from pydantic import BaseModel\n",
    "from datetime import date,datetime"
   ]
  },
  {
   "cell_type": "code",
   "execution_count": 3,
   "id": "cd046cc5",
   "metadata": {},
   "outputs": [],
   "source": [
    "def complex_date_format(dict_,format_=\"%m/%d/%Y %H:%M:%S\"):\n",
    "    def converter(obj):\n",
    "        if isinstance(obj, (datetime, date)):\n",
    "            return datetime.fromisoformat(obj.isoformat()).strftime(format_)\n",
    "        raise TypeError (f\"{type(obj)} not datetime\")\n",
    "    return json.loads(json.dumps(dict_, default=converter))"
   ]
  },
  {
   "cell_type": "code",
   "execution_count": 4,
   "id": "2885c8bf",
   "metadata": {},
   "outputs": [],
   "source": [
    "class User(BaseModel):\n",
    "    id: int\n",
    "    name = 'John Doe'\n",
    "    signup_ts: Optional[datetime] = None\n",
    "    friends: List[int] = []"
   ]
  },
  {
   "cell_type": "code",
   "execution_count": 5,
   "id": "3e5d3abd",
   "metadata": {},
   "outputs": [],
   "source": [
    "external_data = {\n",
    "    'id': '123',\n",
    "    'signup_ts': '2019-06-01 12:22',\n",
    "    'friends': [1, 2, '3']}"
   ]
  },
  {
   "cell_type": "code",
   "execution_count": 6,
   "id": "8355e95a",
   "metadata": {},
   "outputs": [],
   "source": [
    "user = [User(**external_data).dict() for _ in range(3)]"
   ]
  },
  {
   "cell_type": "code",
   "execution_count": 7,
   "id": "dd60cfd8",
   "metadata": {},
   "outputs": [
    {
     "data": {
      "text/plain": [
       "{'id': 123,\n",
       " 'signup_ts': datetime.datetime(2019, 6, 1, 12, 22),\n",
       " 'friends': [1, 2, 3],\n",
       " 'name': 'John Doe'}"
      ]
     },
     "execution_count": 7,
     "metadata": {},
     "output_type": "execute_result"
    }
   ],
   "source": [
    "user[0]"
   ]
  },
  {
   "cell_type": "code",
   "execution_count": 8,
   "id": "1ccacca7",
   "metadata": {},
   "outputs": [
    {
     "data": {
      "text/plain": [
       "{'id': 123,\n",
       " 'signup_ts': '01-06-2019',\n",
       " 'friends': [1, 2, 3],\n",
       " 'name': 'John Doe'}"
      ]
     },
     "execution_count": 8,
     "metadata": {},
     "output_type": "execute_result"
    }
   ],
   "source": [
    "complex_date_format(user,\"%d-%m-%Y\")[0]"
   ]
  },
  {
   "cell_type": "code",
   "execution_count": 9,
   "id": "20a2dea7",
   "metadata": {},
   "outputs": [
    {
     "data": {
      "text/plain": [
       "{'id': 123,\n",
       " 'signup_ts': '06/01/2019 12:22:00',\n",
       " 'friends': [1, 2, 3],\n",
       " 'name': 'John Doe'}"
      ]
     },
     "execution_count": 9,
     "metadata": {},
     "output_type": "execute_result"
    }
   ],
   "source": [
    "complex_date_format(user)[0]"
   ]
  },
  {
   "cell_type": "code",
   "execution_count": null,
   "id": "7c6b0414",
   "metadata": {},
   "outputs": [],
   "source": []
  },
  {
   "cell_type": "code",
   "execution_count": null,
   "id": "3e8d33dc",
   "metadata": {},
   "outputs": [],
   "source": []
  }
 ],
 "metadata": {
  "kernelspec": {
   "display_name": "Python 3 (ipykernel)",
   "language": "python",
   "name": "python3"
  },
  "language_info": {
   "codemirror_mode": {
    "name": "ipython",
    "version": 3
   },
   "file_extension": ".py",
   "mimetype": "text/x-python",
   "name": "python",
   "nbconvert_exporter": "python",
   "pygments_lexer": "ipython3",
   "version": "3.10.0"
  }
 },
 "nbformat": 4,
 "nbformat_minor": 5
}
