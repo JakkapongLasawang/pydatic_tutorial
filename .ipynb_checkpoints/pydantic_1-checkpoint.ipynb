{
 "cells": [
  {
   "cell_type": "code",
   "execution_count": 1,
   "id": "3c1aa0a1",
   "metadata": {},
   "outputs": [],
   "source": [
    "import json"
   ]
  },
  {
   "cell_type": "code",
   "execution_count": 9,
   "id": "95c4ecf6",
   "metadata": {},
   "outputs": [],
   "source": [
    "from datetime import datetime\n",
    "from typing import List, Optional\n",
    "from pydantic import BaseModel\n",
    "from datetime import date,datetime"
   ]
  },
  {
   "cell_type": "code",
   "execution_count": null,
   "id": "a81cc2f3",
   "metadata": {},
   "outputs": [],
   "source": [
    "def complex_date_format(dict_,format_=\"%m/%d/%Y %H:%M:%S\"):\n",
    "    def converter(obj):\n",
    "        if isinstance(obj, (datetime, date)):\n",
    "            return datetime.fromisoformat(obj.isoformat()).strftime(format_)\n",
    "        raise TypeError (f\"{type(obj)} not datetime\")\n",
    "    return json.loads(json.dumps(dict_, default=converter))"
   ]
  },
  {
   "cell_type": "code",
   "execution_count": 10,
   "id": "2885c8bf",
   "metadata": {},
   "outputs": [],
   "source": [
    "class User(BaseModel):\n",
    "    id: int\n",
    "    name = 'John Doe'\n",
    "    signup_ts: Optional[datetime] = None\n",
    "    friends: List[int] = []"
   ]
  },
  {
   "cell_type": "code",
   "execution_count": 11,
   "id": "3e5d3abd",
   "metadata": {},
   "outputs": [],
   "source": [
    "external_data = {\n",
    "    'id': '123',\n",
    "    'signup_ts': '2019-06-01 12:22',\n",
    "    'friends': [1, 2, '3']}"
   ]
  },
  {
   "cell_type": "code",
   "execution_count": 12,
   "id": "8355e95a",
   "metadata": {},
   "outputs": [],
   "source": [
    "user = [User(**external_data).dict() for _ in range(3)]"
   ]
  },
  {
   "cell_type": "code",
   "execution_count": 13,
   "id": "ddc2b042",
   "metadata": {},
   "outputs": [
    {
     "data": {
      "text/plain": [
       "[{'id': 123,\n",
       "  'signup_ts': datetime.datetime(2019, 6, 1, 12, 22),\n",
       "  'friends': [1, 2, 3],\n",
       "  'name': 'John Doe'},\n",
       " {'id': 123,\n",
       "  'signup_ts': datetime.datetime(2019, 6, 1, 12, 22),\n",
       "  'friends': [1, 2, 3],\n",
       "  'name': 'John Doe'},\n",
       " {'id': 123,\n",
       "  'signup_ts': datetime.datetime(2019, 6, 1, 12, 22),\n",
       "  'friends': [1, 2, 3],\n",
       "  'name': 'John Doe'}]"
      ]
     },
     "execution_count": 13,
     "metadata": {},
     "output_type": "execute_result"
    }
   ],
   "source": [
    "user"
   ]
  },
  {
   "cell_type": "code",
   "execution_count": 14,
   "id": "34d4b74d",
   "metadata": {},
   "outputs": [],
   "source": []
  },
  {
   "cell_type": "code",
   "execution_count": 15,
   "id": "1ccacca7",
   "metadata": {},
   "outputs": [
    {
     "ename": "NameError",
     "evalue": "name 'user2' is not defined",
     "output_type": "error",
     "traceback": [
      "\u001b[1;31m---------------------------------------------------------------------------\u001b[0m",
      "\u001b[1;31mNameError\u001b[0m                                 Traceback (most recent call last)",
      "Input \u001b[1;32mIn [15]\u001b[0m, in \u001b[0;36m<cell line: 1>\u001b[1;34m()\u001b[0m\n\u001b[1;32m----> 1\u001b[0m complex_date_format([user,\u001b[43muser2\u001b[49m,user3,user4],\u001b[38;5;124m\"\u001b[39m\u001b[38;5;132;01m%d\u001b[39;00m\u001b[38;5;124m-\u001b[39m\u001b[38;5;124m%\u001b[39m\u001b[38;5;124mm-\u001b[39m\u001b[38;5;124m%\u001b[39m\u001b[38;5;124mY\u001b[39m\u001b[38;5;124m\"\u001b[39m)\n",
      "\u001b[1;31mNameError\u001b[0m: name 'user2' is not defined"
     ]
    }
   ],
   "source": [
    "complex_date_format(user,\"%d-%m-%Y\")"
   ]
  },
  {
   "cell_type": "code",
   "execution_count": null,
   "id": "20a2dea7",
   "metadata": {},
   "outputs": [],
   "source": []
  },
  {
   "cell_type": "code",
   "execution_count": null,
   "id": "7c6b0414",
   "metadata": {},
   "outputs": [],
   "source": []
  },
  {
   "cell_type": "code",
   "execution_count": null,
   "id": "3e8d33dc",
   "metadata": {},
   "outputs": [],
   "source": []
  }
 ],
 "metadata": {
  "kernelspec": {
   "display_name": "Python 3 (ipykernel)",
   "language": "python",
   "name": "python3"
  },
  "language_info": {
   "codemirror_mode": {
    "name": "ipython",
    "version": 3
   },
   "file_extension": ".py",
   "mimetype": "text/x-python",
   "name": "python",
   "nbconvert_exporter": "python",
   "pygments_lexer": "ipython3",
   "version": "3.10.0"
  }
 },
 "nbformat": 4,
 "nbformat_minor": 5
}
